{
 "cells": [
  {
   "cell_type": "markdown",
   "metadata": {},
   "source": [
    "# Rhino 2"
   ]
  },
  {
   "cell_type": "markdown",
   "metadata": {},
   "source": [
    "## Introduction"
   ]
  },
  {
   "cell_type": "markdown",
   "metadata": {},
   "source": [
    "## Loading Data  to Train and Test Rhino"
   ]
  },
  {
   "cell_type": "markdown",
   "metadata": {},
   "source": [
    "Import libraries:\n",
    "- numpy- I am using this library to hold data in arrays and compute the matrix and vector mathematical functions \n",
    "- Pandas-\n",
    "- Matplotlib-\n",
    "- Random-\n"
   ]
  },
  {
   "cell_type": "code",
   "execution_count": 119,
   "metadata": {},
   "outputs": [],
   "source": [
    "import numpy as np\n",
    "import pandas\n",
    "import matplotlib\n",
    "import random\n",
    "\n",
    "%matplotlib inline\n",
    "matplotlib.rcParams['figure.figsize'] = (10.0, 8.0)"
   ]
  },
  {
   "cell_type": "markdown",
   "metadata": {},
   "source": [
    "** Some Text Goes here **"
   ]
  },
  {
   "cell_type": "markdown",
   "metadata": {},
   "source": [
    "Load data from csv file:"
   ]
  },
  {
   "cell_type": "code",
   "execution_count": 120,
   "metadata": {},
   "outputs": [
    {
     "name": "stdout",
     "output_type": "stream",
     "text": [
      "[['aardvark' 1]\n",
      " ['antelope' 1]\n",
      " ['bass' 4]\n",
      " ['bear' 1]\n",
      " ['boar' 1]\n",
      " ['buffalo' 1]\n",
      " ['calf' 1]\n",
      " ['carp' 4]\n",
      " ['catfish' 4]\n",
      " ['cavy' 1]\n",
      " ['cheetah' 1]\n",
      " ['chicken' 2]\n",
      " ['chub' 4]\n",
      " ['clam' 7]\n",
      " ['crab' 7]\n",
      " ['crayfish' 7]\n",
      " ['crow' 2]\n",
      " ['deer' 1]\n",
      " ['dogfish' 4]\n",
      " ['dolphin' 1]\n",
      " ['dove' 2]\n",
      " ['duck' 2]\n",
      " ['elephant' 1]\n",
      " ['flamingo' 2]\n",
      " ['flea' 6]\n",
      " ['frog' 5]\n",
      " ['frog' 5]\n",
      " ['fruitbat' 1]\n",
      " ['giraffe' 1]\n",
      " ['girl' 1]\n",
      " ['gnat' 6]\n",
      " ['goat' 1]\n",
      " ['gorilla' 1]\n",
      " ['gull' 2]\n",
      " ['haddock' 4]\n",
      " ['hamster' 1]\n",
      " ['hare' 1]\n",
      " ['hawk' 2]\n",
      " ['herring' 4]\n",
      " ['honeybee' 6]\n",
      " ['housefly' 6]\n",
      " ['kiwi' 2]\n",
      " ['ladybird' 6]\n",
      " ['lark' 2]\n",
      " ['leopard' 1]\n",
      " ['lion' 1]\n",
      " ['lobster' 7]\n",
      " ['lynx' 1]\n",
      " ['mink' 1]\n",
      " ['mole' 1]\n",
      " ['mongoose' 1]\n",
      " ['moth' 6]\n",
      " ['newt' 5]\n",
      " ['octopus' 7]\n",
      " ['opossum' 1]\n",
      " ['oryx' 1]\n",
      " ['ostrich' 2]\n",
      " ['parakeet' 2]\n",
      " ['penguin' 2]\n",
      " ['pheasant' 2]\n",
      " ['pike' 4]\n",
      " ['piranha' 4]\n",
      " ['pitviper' 3]\n",
      " ['platypus' 1]\n",
      " ['polecat' 1]\n",
      " ['pony' 1]\n",
      " ['porpoise' 1]\n",
      " ['puma' 1]\n",
      " ['pussycat' 1]\n",
      " ['raccoon' 1]\n",
      " ['reindeer' 1]\n",
      " ['rhea' 2]\n",
      " ['scorpion' 7]\n",
      " ['seahorse' 4]\n",
      " ['seal' 1]\n",
      " ['sealion' 1]\n",
      " ['seasnake' 3]\n",
      " ['seawasp' 7]\n",
      " ['skimmer' 2]\n",
      " ['skua' 2]\n",
      " ['slowworm' 3]\n",
      " ['slug' 7]\n",
      " ['sole' 4]\n",
      " ['sparrow' 2]\n",
      " ['squirrel' 1]\n",
      " ['starfish' 7]\n",
      " ['stingray' 4]\n",
      " ['swan' 2]\n",
      " ['termite' 6]\n",
      " ['toad' 5]\n",
      " ['tortoise' 3]\n",
      " ['tuatara' 3]\n",
      " ['tuna' 4]\n",
      " ['vampire' 1]\n",
      " ['vole' 1]\n",
      " ['vulture' 2]\n",
      " ['wallaby' 1]\n",
      " ['wasp' 6]\n",
      " ['wolf' 1]\n",
      " ['worm' 7]\n",
      " ['wren' 2]]\n",
      "    animal_name  hair  feathers  eggs  milk  airborne  aquatic  predator  \\\n",
      "0      aardvark     1         0     0     1         0        0         1   \n",
      "1      antelope     1         0     0     1         0        0         0   \n",
      "2          bass     0         0     1     0         0        1         1   \n",
      "3          bear     1         0     0     1         0        0         1   \n",
      "4          boar     1         0     0     1         0        0         1   \n",
      "5       buffalo     1         0     0     1         0        0         0   \n",
      "6          calf     1         0     0     1         0        0         0   \n",
      "7          carp     0         0     1     0         0        1         0   \n",
      "8       catfish     0         0     1     0         0        1         1   \n",
      "9          cavy     1         0     0     1         0        0         0   \n",
      "10      cheetah     1         0     0     1         0        0         1   \n",
      "11      chicken     0         1     1     0         1        0         0   \n",
      "12         chub     0         0     1     0         0        1         1   \n",
      "13         clam     0         0     1     0         0        0         1   \n",
      "14         crab     0         0     1     0         0        1         1   \n",
      "15     crayfish     0         0     1     0         0        1         1   \n",
      "16         crow     0         1     1     0         1        0         1   \n",
      "17         deer     1         0     0     1         0        0         0   \n",
      "18      dogfish     0         0     1     0         0        1         1   \n",
      "19      dolphin     0         0     0     1         0        1         1   \n",
      "20         dove     0         1     1     0         1        0         0   \n",
      "21         duck     0         1     1     0         1        1         0   \n",
      "22     elephant     1         0     0     1         0        0         0   \n",
      "23     flamingo     0         1     1     0         1        0         0   \n",
      "24         flea     0         0     1     0         0        0         0   \n",
      "25         frog     0         0     1     0         0        1         1   \n",
      "26         frog     0         0     1     0         0        1         1   \n",
      "27     fruitbat     1         0     0     1         1        0         0   \n",
      "28      giraffe     1         0     0     1         0        0         0   \n",
      "29         girl     1         0     0     1         0        0         1   \n",
      "..          ...   ...       ...   ...   ...       ...      ...       ...   \n",
      "71         rhea     0         1     1     0         0        0         1   \n",
      "72     scorpion     0         0     0     0         0        0         1   \n",
      "73     seahorse     0         0     1     0         0        1         0   \n",
      "74         seal     1         0     0     1         0        1         1   \n",
      "75      sealion     1         0     0     1         0        1         1   \n",
      "76     seasnake     0         0     0     0         0        1         1   \n",
      "77      seawasp     0         0     1     0         0        1         1   \n",
      "78      skimmer     0         1     1     0         1        1         1   \n",
      "79         skua     0         1     1     0         1        1         1   \n",
      "80     slowworm     0         0     1     0         0        0         1   \n",
      "81         slug     0         0     1     0         0        0         0   \n",
      "82         sole     0         0     1     0         0        1         0   \n",
      "83      sparrow     0         1     1     0         1        0         0   \n",
      "84     squirrel     1         0     0     1         0        0         0   \n",
      "85     starfish     0         0     1     0         0        1         1   \n",
      "86     stingray     0         0     1     0         0        1         1   \n",
      "87         swan     0         1     1     0         1        1         0   \n",
      "88      termite     0         0     1     0         0        0         0   \n",
      "89         toad     0         0     1     0         0        1         0   \n",
      "90     tortoise     0         0     1     0         0        0         0   \n",
      "91      tuatara     0         0     1     0         0        0         1   \n",
      "92         tuna     0         0     1     0         0        1         1   \n",
      "93      vampire     1         0     0     1         1        0         0   \n",
      "94         vole     1         0     0     1         0        0         0   \n",
      "95      vulture     0         1     1     0         1        0         1   \n",
      "96      wallaby     1         0     0     1         0        0         0   \n",
      "97         wasp     1         0     1     0         1        0         0   \n",
      "98         wolf     1         0     0     1         0        0         1   \n",
      "99         worm     0         0     1     0         0        0         0   \n",
      "100        wren     0         1     1     0         1        0         0   \n",
      "\n",
      "     toothed  backbone  breathes  venomous  fins  legs  tail  domestic  \\\n",
      "0          1         1         1         0     0     4     0         0   \n",
      "1          1         1         1         0     0     4     1         0   \n",
      "2          1         1         0         0     1     0     1         0   \n",
      "3          1         1         1         0     0     4     0         0   \n",
      "4          1         1         1         0     0     4     1         0   \n",
      "5          1         1         1         0     0     4     1         0   \n",
      "6          1         1         1         0     0     4     1         1   \n",
      "7          1         1         0         0     1     0     1         1   \n",
      "8          1         1         0         0     1     0     1         0   \n",
      "9          1         1         1         0     0     4     0         1   \n",
      "10         1         1         1         0     0     4     1         0   \n",
      "11         0         1         1         0     0     2     1         1   \n",
      "12         1         1         0         0     1     0     1         0   \n",
      "13         0         0         0         0     0     0     0         0   \n",
      "14         0         0         0         0     0     4     0         0   \n",
      "15         0         0         0         0     0     6     0         0   \n",
      "16         0         1         1         0     0     2     1         0   \n",
      "17         1         1         1         0     0     4     1         0   \n",
      "18         1         1         0         0     1     0     1         0   \n",
      "19         1         1         1         0     1     0     1         0   \n",
      "20         0         1         1         0     0     2     1         1   \n",
      "21         0         1         1         0     0     2     1         0   \n",
      "22         1         1         1         0     0     4     1         0   \n",
      "23         0         1         1         0     0     2     1         0   \n",
      "24         0         0         1         0     0     6     0         0   \n",
      "25         1         1         1         0     0     4     0         0   \n",
      "26         1         1         1         1     0     4     0         0   \n",
      "27         1         1         1         0     0     2     1         0   \n",
      "28         1         1         1         0     0     4     1         0   \n",
      "29         1         1         1         0     0     2     0         1   \n",
      "..       ...       ...       ...       ...   ...   ...   ...       ...   \n",
      "71         0         1         1         0     0     2     1         0   \n",
      "72         0         0         1         1     0     8     1         0   \n",
      "73         1         1         0         0     1     0     1         0   \n",
      "74         1         1         1         0     1     0     0         0   \n",
      "75         1         1         1         0     1     2     1         0   \n",
      "76         1         1         0         1     0     0     1         0   \n",
      "77         0         0         0         1     0     0     0         0   \n",
      "78         0         1         1         0     0     2     1         0   \n",
      "79         0         1         1         0     0     2     1         0   \n",
      "80         1         1         1         0     0     0     1         0   \n",
      "81         0         0         1         0     0     0     0         0   \n",
      "82         1         1         0         0     1     0     1         0   \n",
      "83         0         1         1         0     0     2     1         0   \n",
      "84         1         1         1         0     0     2     1         0   \n",
      "85         0         0         0         0     0     5     0         0   \n",
      "86         1         1         0         1     1     0     1         0   \n",
      "87         0         1         1         0     0     2     1         0   \n",
      "88         0         0         1         0     0     6     0         0   \n",
      "89         1         1         1         0     0     4     0         0   \n",
      "90         0         1         1         0     0     4     1         0   \n",
      "91         1         1         1         0     0     4     1         0   \n",
      "92         1         1         0         0     1     0     1         0   \n",
      "93         1         1         1         0     0     2     1         0   \n",
      "94         1         1         1         0     0     4     1         0   \n",
      "95         0         1         1         0     0     2     1         0   \n",
      "96         1         1         1         0     0     2     1         0   \n",
      "97         0         0         1         1     0     6     0         0   \n",
      "98         1         1         1         0     0     4     1         0   \n",
      "99         0         0         1         0     0     0     0         0   \n",
      "100        0         1         1         0     0     2     1         0   \n",
      "\n",
      "     catsize  class_type  \n",
      "0          1           1  \n",
      "1          1           1  \n",
      "2          0           4  \n",
      "3          1           1  \n",
      "4          1           1  \n",
      "5          1           1  \n",
      "6          1           1  \n",
      "7          0           4  \n",
      "8          0           4  \n",
      "9          0           1  \n",
      "10         1           1  \n",
      "11         0           2  \n",
      "12         0           4  \n",
      "13         0           7  \n",
      "14         0           7  \n",
      "15         0           7  \n",
      "16         0           2  \n",
      "17         1           1  \n",
      "18         1           4  \n",
      "19         1           1  \n",
      "20         0           2  \n",
      "21         0           2  \n",
      "22         1           1  \n",
      "23         1           2  \n",
      "24         0           6  \n",
      "25         0           5  \n",
      "26         0           5  \n",
      "27         0           1  \n",
      "28         1           1  \n",
      "29         1           1  \n",
      "..       ...         ...  \n",
      "71         1           2  \n",
      "72         0           7  \n",
      "73         0           4  \n",
      "74         1           1  \n",
      "75         1           1  \n",
      "76         0           3  \n",
      "77         0           7  \n",
      "78         0           2  \n",
      "79         0           2  \n",
      "80         0           3  \n",
      "81         0           7  \n",
      "82         0           4  \n",
      "83         0           2  \n",
      "84         0           1  \n",
      "85         0           7  \n",
      "86         1           4  \n",
      "87         1           2  \n",
      "88         0           6  \n",
      "89         0           5  \n",
      "90         1           3  \n",
      "91         0           3  \n",
      "92         1           4  \n",
      "93         0           1  \n",
      "94         0           1  \n",
      "95         1           2  \n",
      "96         1           1  \n",
      "97         0           6  \n",
      "98         1           1  \n",
      "99         0           7  \n",
      "100        0           2  \n",
      "\n",
      "[101 rows x 18 columns]\n",
      "[[1 0 0 ..., 0 0 1]\n",
      " [1 0 0 ..., 1 0 1]\n",
      " [0 0 1 ..., 1 0 0]\n",
      " ..., \n",
      " [1 0 0 ..., 1 0 1]\n",
      " [0 0 1 ..., 0 0 0]\n",
      " [0 1 1 ..., 1 0 0]]\n",
      "[1 1 4 1 1 1 1 4 4 1 1 2 4 7 7 7 2 1 4 1 2 2 1 2 6 5 5 1 1 1 6 1 1 2 4 1 1\n",
      " 2 4 6 6 2 6 2 1 1 7 1 1 1 1 6 5 7 1 1 2 2 2 2 4 4 3 1 1 1 1 1 1 1 1 2 7 4\n",
      " 1 1 3 7 2 2 3 7 4 2 1 7 4 2 6 5 3 3 4 1 1 2 1 6 1 7 2]\n"
     ]
    }
   ],
   "source": [
    "df = pandas.read_csv(r'C:\\Users\\baile\\Downloads\\zoo.csv')\n",
    "inputarray = df.values\n",
    "y = inputarray[:,17]\n",
    "x = inputarray[:,1:17]\n",
    "animalNames = inputarray[:,0]\n",
    "print(np.column_stack((animalNames,y)))\n",
    "AnimalClass=['Mammal','Bird','Reptile','Fish','Amphibian','Bug','Invertebrate']\n",
    "print(df)\n",
    "print(x)\n",
    "print(y)"
   ]
  },
  {
   "cell_type": "markdown",
   "metadata": {},
   "source": [
    "### Storing the Feature and Labels from the data"
   ]
  },
  {
   "cell_type": "markdown",
   "metadata": {},
   "source": []
  },
  {
   "cell_type": "code",
   "execution_count": 121,
   "metadata": {},
   "outputs": [
    {
     "name": "stdout",
     "output_type": "stream",
     "text": [
      "(75, 16)\n",
      "(26, 16)\n"
     ]
    }
   ],
   "source": [
    "TrainingFeatures = x[:75,:]\n",
    "TrainingLabels = y[:75]\n",
    "\n",
    "TestingFeatures = x[75:,:]\n",
    "TestingLabels = y[75:]\n",
    "TestingNames = animalNames[75:]\n",
    "print(TrainingFeatures.shape)\n",
    "print(TestingFeatures.shape)"
   ]
  },
  {
   "cell_type": "markdown",
   "metadata": {},
   "source": [
    "Variables "
   ]
  },
  {
   "cell_type": "code",
   "execution_count": 122,
   "metadata": {
    "collapsed": true
   },
   "outputs": [],
   "source": [
    "NoOfInputs = 16\n",
    "NoOfOutputs = 7\n",
    "HiddenLayerSize = 8\n",
    "m = len(TrainingFeatures)\n",
    "Categories = np.eye((NoOfOutputs))\n",
    "Y = np.zeros((m,NoOfOutputs))\n",
    "for i in range(0, m):\n",
    "    Y[i,:] = Categories[TrainingLabels[i]-1,:]\n",
    "    \n"
   ]
  },
  {
   "cell_type": "code",
   "execution_count": null,
   "metadata": {
    "collapsed": true
   },
   "outputs": [],
   "source": []
  },
  {
   "cell_type": "markdown",
   "metadata": {},
   "source": [
    "#### Sigmoid Functions"
   ]
  },
  {
   "cell_type": "code",
   "execution_count": 123,
   "metadata": {
    "collapsed": true
   },
   "outputs": [],
   "source": [
    "def Sigmoid(z): \n",
    "    return 1.0 / (1.0 + np.exp(-z))\n",
    "\n",
    "def SigmoidGradient(z):\n",
    "    return Sigmoid(z)*(1-Sigmoid(z))"
   ]
  },
  {
   "cell_type": "markdown",
   "metadata": {},
   "source": [
    "## Cost Function "
   ]
  },
  {
   "cell_type": "code",
   "execution_count": 124,
   "metadata": {
    "collapsed": true
   },
   "outputs": [],
   "source": [
    "def CostFunction(model, x, y, regularizationModifier = 0.01):\n",
    "    m = len(x)\n",
    "    #\n",
    "    W1, W2 = model['W1'], model['W2']\n",
    "    #\n",
    "    a1 = np.column_stack((np.ones(m), x))\n",
    "    z2 = np.array((np.dot(a1, W1.T)),dtype=np.float32)\n",
    "    a2 = Sigmoid(z2)\n",
    "    a2 = np.column_stack((np.ones(len(a2)), a2))\n",
    "    z3 = np.dot(a2, W2.T)\n",
    "    h = Sigmoid(z3)\n",
    "    #\n",
    "    jReg = (regularizationModifier / (2*m)*(sum(sum(W1[:,2:]**2)) + sum(sum(W2[:,2:]**2))))\n",
    "    #\n",
    "    return ((1/m)*sum(sum((-y * np.log(h))-((1-y)*np.log(1-h)))) +jReg)\n"
   ]
  },
  {
   "cell_type": "markdown",
   "metadata": {},
   "source": []
  },
  {
   "cell_type": "code",
   "execution_count": 125,
   "metadata": {},
   "outputs": [
    {
     "name": "stdout",
     "output_type": "stream",
     "text": [
      "4.15008232263\n"
     ]
    }
   ],
   "source": [
    "W1 = np.random.randn(HiddenLayerSize, NoOfInputs + 1)\n",
    "W2 = np.random.randn(NoOfOutputs, HiddenLayerSize + 1)\n",
    "Model = {'W1': W1, 'W2': W2}\n",
    "\n",
    "print(CostFunction(Model, TrainingFeatures, Y))"
   ]
  },
  {
   "cell_type": "markdown",
   "metadata": {},
   "source": [
    "## Predict function"
   ]
  },
  {
   "cell_type": "code",
   "execution_count": 126,
   "metadata": {
    "collapsed": true
   },
   "outputs": [],
   "source": [
    "def Predict(model, x, regularizationModifier = 0.01):\n",
    "    m = len(x)  \n",
    "    W1, W2 = model['W1'], model['W2']\n",
    "    a1 = np.column_stack((np.ones(m), x))\n",
    "    z2 = np.array((np.dot(a1, W1.T)),dtype=np.float32)\n",
    "    a2 = Sigmoid(z2)\n",
    "    a2 = np.column_stack((np.ones(len(a2)), a2))\n",
    "    z3 = np.dot(a2, W2.T)\n",
    "    hypothesis = Sigmoid(z3)\n",
    "    return np.argmax(hypothesis, axis=1)\n"
   ]
  },
  {
   "cell_type": "code",
   "execution_count": 127,
   "metadata": {},
   "outputs": [
    {
     "name": "stdout",
     "output_type": "stream",
     "text": [
      "4.15008232263\n",
      "[0 0 0 0 0 0 0 0 0 0 0 0 0 0 0 0 0 0 0 0 0 0 0 0 0 0 0 0 0 0 0 0 0 0 0 0 0\n",
      " 0 0 0 0 0 0 0 0 0 0 0 0 0 0 0 0 0 0 0 0 0 0 0 0 0 0 0 0 0 0 0 0 0 0 0 0 0\n",
      " 0]\n"
     ]
    }
   ],
   "source": [
    "\n",
    "print(CostFunction(Model, TrainingFeatures, Y))\n",
    "print(Predict(Model, TrainingFeatures))"
   ]
  },
  {
   "cell_type": "markdown",
   "metadata": {},
   "source": []
  },
  {
   "cell_type": "code",
   "execution_count": 128,
   "metadata": {
    "collapsed": true
   },
   "outputs": [],
   "source": [
    "def randInitializeWeight(L_In, L_Out,N=0) :\n",
    "    np.random.seed(N)\n",
    "    epsilon = 0.12   \n",
    "    return (np.random.randn(L_Out, L_In + 1) * 2 * epsilon) - epsilon"
   ]
  },
  {
   "cell_type": "code",
   "execution_count": 129,
   "metadata": {
    "collapsed": true
   },
   "outputs": [],
   "source": [
    "def Build_Model(x, y, noOfInputs, noOfOutputs, hiddenLayerSize, num_passes = 20000, print_losses = False, regularizationModifier = 0.01, alpha =  0.1):\n",
    "    m = len(x)\n",
    "    model= {}\n",
    "    \n",
    "    W1 = randInitializeWeight(noOfInputs, hiddenLayerSize)\n",
    "    W2 = randInitializeWeight(hiddenLayerSize, noOfOutputs)\n",
    "    \n",
    "    for i in range(0, num_passes):\n",
    "        a1 = np.column_stack((np.ones(m), x))\n",
    "        z2 = np.array((np.dot(a1, W1.T)), dtype=np.float32)\n",
    "        a2 = Sigmoid(z2)\n",
    "        a2 = np.column_stack((np.ones(len(a2)), a2))\n",
    "        z3 = np.dot(a2, W2.T)\n",
    "        hypothesis = Sigmoid(z3)\n",
    "        \n",
    "        d3 = hypothesis - y\n",
    "        d2 = np.dot(d3,W2)*SigmoidGradient(np.column_stack((np.ones(len(z2)), z2)))\n",
    "        D1 = np.dot(d2[:,1:].T, a1)\n",
    "        D2 = np.dot(d3.T, a2)\n",
    "        r1 = (regularizationModifier/m)*(np.column_stack((np.zeros((len(W1))), W1[:, 1:])))\n",
    "        r2 = (regularizationModifier/m)*(np.column_stack((np.zeros((len(W2))), W2[:, 1:])))\n",
    "        \n",
    "        W1_grad = D1/m + r1\n",
    "        W2_grad = D2/m + r2\n",
    "        W1 += np.array((-alpha*W1_grad),dtype = np.float32)\n",
    "        W2 += -alpha*W2_grad\n",
    "        \n",
    "        model = {'W1': W1, 'W2': W2}\n",
    "        \n",
    "        if print_losses and i % 1000 == 0:\n",
    "            print(\"Loss after iteration %i: %f\" %(i, CostFunction(model, x, y)))\n",
    "            \n",
    "    return model\n",
    "    "
   ]
  },
  {
   "cell_type": "markdown",
   "metadata": {},
   "source": [
    "Test the training"
   ]
  },
  {
   "cell_type": "code",
   "execution_count": 130,
   "metadata": {},
   "outputs": [],
   "source": [
    "A=Build_Model(TrainingFeatures, Y,NoOfInputs,NoOfOutputs,HiddenLayerSize)"
   ]
  },
  {
   "cell_type": "code",
   "execution_count": 134,
   "metadata": {},
   "outputs": [
    {
     "name": "stdout",
     "output_type": "stream",
     "text": [
      "(26,)\n",
      "(26,)\n",
      "['sealion Mammal', 'seasnake Fish', 'seawasp Invertebrate', 'skimmer Bird', 'skua Bird', 'slowworm Reptile', 'slug Bug', 'sole Fish', 'sparrow Bird', 'squirrel Mammal', 'starfish Invertebrate', 'stingray Fish', 'swan Bird', 'termite Bug', 'toad Amphibian', 'tortoise Bird', 'tuatara Amphibian', 'tuna Fish', 'vampire Mammal', 'vole Mammal', 'vulture Bird', 'wallaby Mammal', 'wasp Bug', 'wolf Mammal', 'worm Bug', 'wren Bird']\n",
      "80.76923076923077\n"
     ]
    }
   ],
   "source": [
    "PredictedAnimalClass = Predict(A,TestingFeatures)\n",
    "PredictedTypeOfAnimal = []\n",
    "ActualAnimalClass = TestingLabels\n",
    "ActualTypeOfAnimal = []\n",
    "print(PredictedAnimalClass.shape)\n",
    "print(ActualAnimalClass.shape)\n",
    "for i in range(0,len(PredictedAnimalClass)):\n",
    "    PredictedTypeOfAnimal.append(AnimalClass[PredictedAnimalClass[i]])   \n",
    "for i in range(0,len(PredictedAnimalClass)):\n",
    "    ActualTypeOfAnimal.append(AnimalClass[ActualAnimalClass[i]-1])\n",
    "count = 0\n",
    "for i in range(0,len(PredictedTypeOfAnimal)):\n",
    "    if PredictedTypeOfAnimal[i]==ActualTypeOfAnimal[i]:\n",
    "        count+=1\n",
    "DeleteLater = [TestingNames[ix] +' '+PredictedTypeOfAnimal[ix] for ix in range(0,len(PredictedTypeOfAnimal))]\n",
    "Compare =[PredictedTypeOfAnimal[ix] +' '+ActualTypeOfAnimal[ix] for ix in range(0,len(PredictedTypeOfAnimal))]\n",
    "print(DeleteLater)\n",
    "print((count/len(PredictedTypeOfAnimal))*100)        "
   ]
  },
  {
   "cell_type": "code",
   "execution_count": 135,
   "metadata": {},
   "outputs": [
    {
     "name": "stdout",
     "output_type": "stream",
     "text": [
      "['Mammal Mammal', 'Fish Reptile', 'Invertebrate Invertebrate', 'Bird Bird', 'Bird Bird', 'Reptile Reptile', 'Bug Invertebrate', 'Fish Fish', 'Bird Bird', 'Mammal Mammal', 'Invertebrate Invertebrate', 'Fish Fish', 'Bird Bird', 'Bug Bug', 'Amphibian Amphibian', 'Bird Reptile', 'Amphibian Reptile', 'Fish Fish', 'Mammal Mammal', 'Mammal Mammal', 'Bird Bird', 'Mammal Mammal', 'Bug Bug', 'Mammal Mammal', 'Bug Invertebrate', 'Bird Bird']\n"
     ]
    }
   ],
   "source": [
    "print(Compare)"
   ]
  }
 ],
 "metadata": {
  "kernelspec": {
   "display_name": "Python 3",
   "language": "python",
   "name": "python3"
  },
  "language_info": {
   "codemirror_mode": {
    "name": "ipython",
    "version": 3
   },
   "file_extension": ".py",
   "mimetype": "text/x-python",
   "name": "python",
   "nbconvert_exporter": "python",
   "pygments_lexer": "ipython3",
   "version": "3.6.1"
  }
 },
 "nbformat": 4,
 "nbformat_minor": 2
}
