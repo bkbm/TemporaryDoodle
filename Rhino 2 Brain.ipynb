{
 "cells": [
  {
   "cell_type": "markdown",
   "metadata": {},
   "source": [
    "# Rhino 2"
   ]
  },
  {
   "cell_type": "markdown",
   "metadata": {},
   "source": [
    "## Introduction"
   ]
  },
  {
   "cell_type": "markdown",
   "metadata": {},
   "source": [
    "## Loading Data  to Train and Test Rhino"
   ]
  },
  {
   "cell_type": "markdown",
   "metadata": {},
   "source": [
    "Import libraries:\n",
    "- numpy- I am using this library to hold data in arrays and compute the matrix and vector mathematical functions \n",
    "- Pandas-\n",
    "- Matplotlib-\n",
    "- Random-\n"
   ]
  },
  {
   "cell_type": "code",
   "execution_count": 29,
   "metadata": {
    "collapsed": true
   },
   "outputs": [],
   "source": [
    "import numpy as np\n",
    "import pandas\n",
    "import matplotlib\n",
    "import random\n",
    "\n",
    "%matplotlib inline\n",
    "matplotlib.rcParams['figure.figsize'] = (10.0, 8.0)"
   ]
  },
  {
   "cell_type": "markdown",
   "metadata": {},
   "source": [
    "** Some Text Goes here **"
   ]
  },
  {
   "cell_type": "markdown",
   "metadata": {},
   "source": [
    "Load data from csv file:"
   ]
  },
  {
   "cell_type": "code",
   "execution_count": 3,
   "metadata": {},
   "outputs": [
    {
     "name": "stdout",
     "output_type": "stream",
     "text": [
      "    animal_name  hair  feathers  eggs  milk  airborne  aquatic  predator  \\\n",
      "0      aardvark     1         0     0     1         0        0         1   \n",
      "1      antelope     1         0     0     1         0        0         0   \n",
      "2          bass     0         0     1     0         0        1         1   \n",
      "3          bear     1         0     0     1         0        0         1   \n",
      "4          boar     1         0     0     1         0        0         1   \n",
      "5       buffalo     1         0     0     1         0        0         0   \n",
      "6          calf     1         0     0     1         0        0         0   \n",
      "7          carp     0         0     1     0         0        1         0   \n",
      "8       catfish     0         0     1     0         0        1         1   \n",
      "9          cavy     1         0     0     1         0        0         0   \n",
      "10      cheetah     1         0     0     1         0        0         1   \n",
      "11      chicken     0         1     1     0         1        0         0   \n",
      "12         chub     0         0     1     0         0        1         1   \n",
      "13         clam     0         0     1     0         0        0         1   \n",
      "14         crab     0         0     1     0         0        1         1   \n",
      "15     crayfish     0         0     1     0         0        1         1   \n",
      "16         crow     0         1     1     0         1        0         1   \n",
      "17         deer     1         0     0     1         0        0         0   \n",
      "18      dogfish     0         0     1     0         0        1         1   \n",
      "19      dolphin     0         0     0     1         0        1         1   \n",
      "20         dove     0         1     1     0         1        0         0   \n",
      "21         duck     0         1     1     0         1        1         0   \n",
      "22     elephant     1         0     0     1         0        0         0   \n",
      "23     flamingo     0         1     1     0         1        0         0   \n",
      "24         flea     0         0     1     0         0        0         0   \n",
      "25         frog     0         0     1     0         0        1         1   \n",
      "26         frog     0         0     1     0         0        1         1   \n",
      "27     fruitbat     1         0     0     1         1        0         0   \n",
      "28      giraffe     1         0     0     1         0        0         0   \n",
      "29         girl     1         0     0     1         0        0         1   \n",
      "..          ...   ...       ...   ...   ...       ...      ...       ...   \n",
      "71         rhea     0         1     1     0         0        0         1   \n",
      "72     scorpion     0         0     0     0         0        0         1   \n",
      "73     seahorse     0         0     1     0         0        1         0   \n",
      "74         seal     1         0     0     1         0        1         1   \n",
      "75      sealion     1         0     0     1         0        1         1   \n",
      "76     seasnake     0         0     0     0         0        1         1   \n",
      "77      seawasp     0         0     1     0         0        1         1   \n",
      "78      skimmer     0         1     1     0         1        1         1   \n",
      "79         skua     0         1     1     0         1        1         1   \n",
      "80     slowworm     0         0     1     0         0        0         1   \n",
      "81         slug     0         0     1     0         0        0         0   \n",
      "82         sole     0         0     1     0         0        1         0   \n",
      "83      sparrow     0         1     1     0         1        0         0   \n",
      "84     squirrel     1         0     0     1         0        0         0   \n",
      "85     starfish     0         0     1     0         0        1         1   \n",
      "86     stingray     0         0     1     0         0        1         1   \n",
      "87         swan     0         1     1     0         1        1         0   \n",
      "88      termite     0         0     1     0         0        0         0   \n",
      "89         toad     0         0     1     0         0        1         0   \n",
      "90     tortoise     0         0     1     0         0        0         0   \n",
      "91      tuatara     0         0     1     0         0        0         1   \n",
      "92         tuna     0         0     1     0         0        1         1   \n",
      "93      vampire     1         0     0     1         1        0         0   \n",
      "94         vole     1         0     0     1         0        0         0   \n",
      "95      vulture     0         1     1     0         1        0         1   \n",
      "96      wallaby     1         0     0     1         0        0         0   \n",
      "97         wasp     1         0     1     0         1        0         0   \n",
      "98         wolf     1         0     0     1         0        0         1   \n",
      "99         worm     0         0     1     0         0        0         0   \n",
      "100        wren     0         1     1     0         1        0         0   \n",
      "\n",
      "     toothed  backbone  breathes  venomous  fins  legs  tail  domestic  \\\n",
      "0          1         1         1         0     0     4     0         0   \n",
      "1          1         1         1         0     0     4     1         0   \n",
      "2          1         1         0         0     1     0     1         0   \n",
      "3          1         1         1         0     0     4     0         0   \n",
      "4          1         1         1         0     0     4     1         0   \n",
      "5          1         1         1         0     0     4     1         0   \n",
      "6          1         1         1         0     0     4     1         1   \n",
      "7          1         1         0         0     1     0     1         1   \n",
      "8          1         1         0         0     1     0     1         0   \n",
      "9          1         1         1         0     0     4     0         1   \n",
      "10         1         1         1         0     0     4     1         0   \n",
      "11         0         1         1         0     0     2     1         1   \n",
      "12         1         1         0         0     1     0     1         0   \n",
      "13         0         0         0         0     0     0     0         0   \n",
      "14         0         0         0         0     0     4     0         0   \n",
      "15         0         0         0         0     0     6     0         0   \n",
      "16         0         1         1         0     0     2     1         0   \n",
      "17         1         1         1         0     0     4     1         0   \n",
      "18         1         1         0         0     1     0     1         0   \n",
      "19         1         1         1         0     1     0     1         0   \n",
      "20         0         1         1         0     0     2     1         1   \n",
      "21         0         1         1         0     0     2     1         0   \n",
      "22         1         1         1         0     0     4     1         0   \n",
      "23         0         1         1         0     0     2     1         0   \n",
      "24         0         0         1         0     0     6     0         0   \n",
      "25         1         1         1         0     0     4     0         0   \n",
      "26         1         1         1         1     0     4     0         0   \n",
      "27         1         1         1         0     0     2     1         0   \n",
      "28         1         1         1         0     0     4     1         0   \n",
      "29         1         1         1         0     0     2     0         1   \n",
      "..       ...       ...       ...       ...   ...   ...   ...       ...   \n",
      "71         0         1         1         0     0     2     1         0   \n",
      "72         0         0         1         1     0     8     1         0   \n",
      "73         1         1         0         0     1     0     1         0   \n",
      "74         1         1         1         0     1     0     0         0   \n",
      "75         1         1         1         0     1     2     1         0   \n",
      "76         1         1         0         1     0     0     1         0   \n",
      "77         0         0         0         1     0     0     0         0   \n",
      "78         0         1         1         0     0     2     1         0   \n",
      "79         0         1         1         0     0     2     1         0   \n",
      "80         1         1         1         0     0     0     1         0   \n",
      "81         0         0         1         0     0     0     0         0   \n",
      "82         1         1         0         0     1     0     1         0   \n",
      "83         0         1         1         0     0     2     1         0   \n",
      "84         1         1         1         0     0     2     1         0   \n",
      "85         0         0         0         0     0     5     0         0   \n",
      "86         1         1         0         1     1     0     1         0   \n",
      "87         0         1         1         0     0     2     1         0   \n",
      "88         0         0         1         0     0     6     0         0   \n",
      "89         1         1         1         0     0     4     0         0   \n",
      "90         0         1         1         0     0     4     1         0   \n",
      "91         1         1         1         0     0     4     1         0   \n",
      "92         1         1         0         0     1     0     1         0   \n",
      "93         1         1         1         0     0     2     1         0   \n",
      "94         1         1         1         0     0     4     1         0   \n",
      "95         0         1         1         0     0     2     1         0   \n",
      "96         1         1         1         0     0     2     1         0   \n",
      "97         0         0         1         1     0     6     0         0   \n",
      "98         1         1         1         0     0     4     1         0   \n",
      "99         0         0         1         0     0     0     0         0   \n",
      "100        0         1         1         0     0     2     1         0   \n",
      "\n",
      "     catsize  class_type  \n",
      "0          1           1  \n",
      "1          1           1  \n",
      "2          0           4  \n",
      "3          1           1  \n",
      "4          1           1  \n",
      "5          1           1  \n",
      "6          1           1  \n",
      "7          0           4  \n",
      "8          0           4  \n",
      "9          0           1  \n",
      "10         1           1  \n",
      "11         0           2  \n",
      "12         0           4  \n",
      "13         0           7  \n",
      "14         0           7  \n",
      "15         0           7  \n",
      "16         0           2  \n",
      "17         1           1  \n",
      "18         1           4  \n",
      "19         1           1  \n",
      "20         0           2  \n",
      "21         0           2  \n",
      "22         1           1  \n",
      "23         1           2  \n",
      "24         0           6  \n",
      "25         0           5  \n",
      "26         0           5  \n",
      "27         0           1  \n",
      "28         1           1  \n",
      "29         1           1  \n",
      "..       ...         ...  \n",
      "71         1           2  \n",
      "72         0           7  \n",
      "73         0           4  \n",
      "74         1           1  \n",
      "75         1           1  \n",
      "76         0           3  \n",
      "77         0           7  \n",
      "78         0           2  \n",
      "79         0           2  \n",
      "80         0           3  \n",
      "81         0           7  \n",
      "82         0           4  \n",
      "83         0           2  \n",
      "84         0           1  \n",
      "85         0           7  \n",
      "86         1           4  \n",
      "87         1           2  \n",
      "88         0           6  \n",
      "89         0           5  \n",
      "90         1           3  \n",
      "91         0           3  \n",
      "92         1           4  \n",
      "93         0           1  \n",
      "94         0           1  \n",
      "95         1           2  \n",
      "96         1           1  \n",
      "97         0           6  \n",
      "98         1           1  \n",
      "99         0           7  \n",
      "100        0           2  \n",
      "\n",
      "[101 rows x 18 columns]\n",
      "[[1 0 0 ..., 0 1 1]\n",
      " [1 0 0 ..., 0 1 1]\n",
      " [0 0 1 ..., 0 0 4]\n",
      " ..., \n",
      " [1 0 0 ..., 0 1 1]\n",
      " [0 0 1 ..., 0 0 7]\n",
      " [0 1 1 ..., 0 0 2]]\n",
      "[1 1 4 1 1 1 1 4 4 1 1 2 4 7 7 7 2 1 4 1 2 2 1 2 6 5 5 1 1 1 6 1 1 2 4 1 1\n",
      " 2 4 6 6 2 6 2 1 1 7 1 1 1 1 6 5 7 1 1 2 2 2 2 4 4 3 1 1 1 1 1 1 1 1 2 7 4\n",
      " 1 1 3 7 2 2 3 7 4 2 1 7 4 2 6 5 3 3 4 1 1 2 1 6 1 7 2]\n"
     ]
    }
   ],
   "source": [
    "df = pandas.read_csv(r'C:\\Users\\baile\\Documents\\zoo.csv')\n",
    "inputarray = df.values\n",
    "y = inputarray[:,17]\n",
    "x = inputarray[:,1:]\n",
    "animalNames = x[0,:]\n",
    "print(df)\n",
    "print(x)\n",
    "print(y)"
   ]
  },
  {
   "cell_type": "markdown",
   "metadata": {},
   "source": [
    "### Storing the Feature and Labels from the data"
   ]
  },
  {
   "cell_type": "markdown",
   "metadata": {},
   "source": []
  },
  {
   "cell_type": "code",
   "execution_count": 8,
   "metadata": {
    "collapsed": true
   },
   "outputs": [
    {
     "name": "stdout",
     "output_type": "stream",
     "text": [
      "(75, 17)\n",
      "(26, 17)\n"
     ]
    }
   ],
   "source": [
    "TrainingFeatures = x[:75,:]\n",
    "TrainingLabels = y[:75]\n",
    "\n",
    "TestingFeatures = x[75:,:]\n",
    "TestingLabels = y[75:]\n",
    "print(TrainingFeatures.shape)\n",
    "print(TestingFeatures.shape)"
   ]
  },
  {
   "cell_type": "markdown",
   "metadata": {},
   "source": [
    "Variables "
   ]
  },
  {
   "cell_type": "code",
   "execution_count": 18,
   "metadata": {
    "collapsed": true
   },
   "outputs": [],
   "source": [
    "NoOfInputs = 17\n",
    "NoOfOutputs = 7\n",
    "HiddenLayerSize = 8\n",
    "m = len(TrainingFeatures)\n",
    "Categories = np.eye((NoOfOutputs))\n",
    "Y = np.zeros((m,NoOfOutputs))\n",
    "for i in range(0, m):\n",
    "    Y[i,:] = Categories[TrainingLabels[i]-1,:]\n",
    "    \n"
   ]
  },
  {
   "cell_type": "code",
   "execution_count": null,
   "metadata": {
    "collapsed": true
   },
   "outputs": [],
   "source": []
  },
  {
   "cell_type": "markdown",
   "metadata": {},
   "source": [
    "#### Sigmoid Functions"
   ]
  },
  {
   "cell_type": "code",
   "execution_count": 26,
   "metadata": {
    "collapsed": true
   },
   "outputs": [],
   "source": [
    "def Sigmoid(z): \n",
    "    return 1.0 / (1.0 + np.exp(-z))\n",
    "\n",
    "def SigmoidGradient(z):\n",
    "    return Sigmoid(z)*(1-Sigmoid(z))"
   ]
  },
  {
   "cell_type": "markdown",
   "metadata": {},
   "source": [
    "## Cost Function "
   ]
  },
  {
   "cell_type": "code",
   "execution_count": 27,
   "metadata": {
    "collapsed": true
   },
   "outputs": [],
   "source": [
    "def CostFunction(model, x, y, regularizationModifier = 0.01):\n",
    "    m = len(x)\n",
    "    #\n",
    "    W1, W2 = model['W1'], model['W2']\n",
    "    #\n",
    "    a1 = np.column_stack((np.ones(m), x))\n",
    "    z2 = np.dot(a1, W1.T)\n",
    "    print(z2.shape)\n",
    "    a2 = Sigmoid(z2)\n",
    "    a2 = np.column_stack((np.ones(len(a2)), a2))\n",
    "    z3 = np.dot(a2, W2.T)\n",
    "    h = Sigmoid(z3)\n",
    "    #\n",
    "    jReg = (regularizationModifier / (2*m)*(sum(sum(W1[:,2:]**2)) + sum(sum(W2[:,2:]**2))))\n",
    "    #\n",
    "    return ((1/m)*sum(sum((-y * np.log(h))-((1-y)*np.log(1-h)))) +jReg)\n"
   ]
  },
  {
   "cell_type": "markdown",
   "metadata": {},
   "source": []
  },
  {
   "cell_type": "code",
   "execution_count": 28,
   "metadata": {
    "collapsed": true
   },
   "outputs": [
    {
     "name": "stdout",
     "output_type": "stream",
     "text": [
      "(75, 17)\n",
      "(75, 7)\n",
      "(8, 18)\n",
      "(7, 9)\n",
      "(75, 8)\n"
     ]
    },
    {
     "ename": "AttributeError",
     "evalue": "'float' object has no attribute 'exp'",
     "output_type": "error",
     "traceback": [
      "\u001b[1;31m---------------------------------------------------------------------------\u001b[0m",
      "\u001b[1;31mAttributeError\u001b[0m                            Traceback (most recent call last)",
      "\u001b[1;32m<ipython-input-28-2d100d8a7d02>\u001b[0m in \u001b[0;36m<module>\u001b[1;34m()\u001b[0m\n\u001b[0;32m      6\u001b[0m \u001b[0mprint\u001b[0m\u001b[1;33m(\u001b[0m\u001b[0mW1\u001b[0m\u001b[1;33m.\u001b[0m\u001b[0mshape\u001b[0m\u001b[1;33m)\u001b[0m\u001b[1;33m\u001b[0m\u001b[0m\n\u001b[0;32m      7\u001b[0m \u001b[0mprint\u001b[0m\u001b[1;33m(\u001b[0m\u001b[0mW2\u001b[0m\u001b[1;33m.\u001b[0m\u001b[0mshape\u001b[0m\u001b[1;33m)\u001b[0m\u001b[1;33m\u001b[0m\u001b[0m\n\u001b[1;32m----> 8\u001b[1;33m \u001b[0mprint\u001b[0m\u001b[1;33m(\u001b[0m\u001b[0mCostFunction\u001b[0m\u001b[1;33m(\u001b[0m\u001b[0mModel\u001b[0m\u001b[1;33m,\u001b[0m \u001b[0mTrainingFeatures\u001b[0m\u001b[1;33m,\u001b[0m \u001b[0mY\u001b[0m\u001b[1;33m,\u001b[0m \u001b[1;36m0\u001b[0m\u001b[1;33m)\u001b[0m\u001b[1;33m)\u001b[0m\u001b[1;33m\u001b[0m\u001b[0m\n\u001b[0m",
      "\u001b[1;32m<ipython-input-27-9b27d87de994>\u001b[0m in \u001b[0;36mCostFunction\u001b[1;34m(model, x, y, regularizationModifier)\u001b[0m\n\u001b[0;32m      7\u001b[0m     \u001b[0mz2\u001b[0m \u001b[1;33m=\u001b[0m \u001b[0mnp\u001b[0m\u001b[1;33m.\u001b[0m\u001b[0mdot\u001b[0m\u001b[1;33m(\u001b[0m\u001b[0ma1\u001b[0m\u001b[1;33m,\u001b[0m \u001b[0mW1\u001b[0m\u001b[1;33m.\u001b[0m\u001b[0mT\u001b[0m\u001b[1;33m)\u001b[0m\u001b[1;33m\u001b[0m\u001b[0m\n\u001b[0;32m      8\u001b[0m     \u001b[0mprint\u001b[0m\u001b[1;33m(\u001b[0m\u001b[0mz2\u001b[0m\u001b[1;33m.\u001b[0m\u001b[0mshape\u001b[0m\u001b[1;33m)\u001b[0m\u001b[1;33m\u001b[0m\u001b[0m\n\u001b[1;32m----> 9\u001b[1;33m     \u001b[0ma2\u001b[0m \u001b[1;33m=\u001b[0m \u001b[0mSigmoid\u001b[0m\u001b[1;33m(\u001b[0m\u001b[0mz2\u001b[0m\u001b[1;33m)\u001b[0m\u001b[1;33m\u001b[0m\u001b[0m\n\u001b[0m\u001b[0;32m     10\u001b[0m     \u001b[0ma2\u001b[0m \u001b[1;33m=\u001b[0m \u001b[0mnp\u001b[0m\u001b[1;33m.\u001b[0m\u001b[0mcolumn_stack\u001b[0m\u001b[1;33m(\u001b[0m\u001b[1;33m(\u001b[0m\u001b[0mnp\u001b[0m\u001b[1;33m.\u001b[0m\u001b[0mones\u001b[0m\u001b[1;33m(\u001b[0m\u001b[0mlen\u001b[0m\u001b[1;33m(\u001b[0m\u001b[0ma2\u001b[0m\u001b[1;33m)\u001b[0m\u001b[1;33m)\u001b[0m\u001b[1;33m,\u001b[0m \u001b[0ma2\u001b[0m\u001b[1;33m)\u001b[0m\u001b[1;33m)\u001b[0m\u001b[1;33m\u001b[0m\u001b[0m\n\u001b[0;32m     11\u001b[0m     \u001b[0mz3\u001b[0m \u001b[1;33m=\u001b[0m \u001b[0mnp\u001b[0m\u001b[1;33m.\u001b[0m\u001b[0mdot\u001b[0m\u001b[1;33m(\u001b[0m\u001b[0ma2\u001b[0m\u001b[1;33m,\u001b[0m \u001b[0mW2\u001b[0m\u001b[1;33m.\u001b[0m\u001b[0mT\u001b[0m\u001b[1;33m)\u001b[0m\u001b[1;33m\u001b[0m\u001b[0m\n",
      "\u001b[1;32m<ipython-input-26-2cda00bccfe1>\u001b[0m in \u001b[0;36mSigmoid\u001b[1;34m(z)\u001b[0m\n\u001b[0;32m      1\u001b[0m \u001b[1;32mdef\u001b[0m \u001b[0mSigmoid\u001b[0m\u001b[1;33m(\u001b[0m\u001b[0mz\u001b[0m\u001b[1;33m)\u001b[0m\u001b[1;33m:\u001b[0m\u001b[1;33m\u001b[0m\u001b[0m\n\u001b[1;32m----> 2\u001b[1;33m     \u001b[1;32mreturn\u001b[0m \u001b[1;36m1\u001b[0m \u001b[1;33m/\u001b[0m \u001b[1;33m(\u001b[0m\u001b[1;36m1\u001b[0m \u001b[1;33m+\u001b[0m \u001b[0mnp\u001b[0m\u001b[1;33m.\u001b[0m\u001b[0mexp\u001b[0m\u001b[1;33m(\u001b[0m\u001b[1;33m-\u001b[0m\u001b[0mz\u001b[0m\u001b[1;33m)\u001b[0m\u001b[1;33m)\u001b[0m\u001b[1;33m\u001b[0m\u001b[0m\n\u001b[0m\u001b[0;32m      3\u001b[0m \u001b[1;33m\u001b[0m\u001b[0m\n\u001b[0;32m      4\u001b[0m \u001b[1;32mdef\u001b[0m \u001b[0mSigmoidGradient\u001b[0m\u001b[1;33m(\u001b[0m\u001b[0mz\u001b[0m\u001b[1;33m)\u001b[0m\u001b[1;33m:\u001b[0m\u001b[1;33m\u001b[0m\u001b[0m\n\u001b[0;32m      5\u001b[0m     \u001b[1;32mreturn\u001b[0m \u001b[0mSigmoid\u001b[0m\u001b[1;33m(\u001b[0m\u001b[0mz\u001b[0m\u001b[1;33m)\u001b[0m\u001b[1;33m*\u001b[0m\u001b[1;33m(\u001b[0m\u001b[1;36m1\u001b[0m\u001b[1;33m-\u001b[0m\u001b[0mSigmoid\u001b[0m\u001b[1;33m(\u001b[0m\u001b[0mz\u001b[0m\u001b[1;33m)\u001b[0m\u001b[1;33m)\u001b[0m\u001b[1;33m\u001b[0m\u001b[0m\n",
      "\u001b[1;31mAttributeError\u001b[0m: 'float' object has no attribute 'exp'"
     ]
    }
   ],
   "source": [
    "W1 = np.random.randn(HiddenLayerSize, NoOfInputs + 1)\n",
    "W2 = np.random.randn(NoOfOutputs, HiddenLayerSize + 1)\n",
    "Model = {'W1': W1, 'W2': W2}\n",
    "print(TrainingFeatures.shape)\n",
    "print(Y.shape)\n",
    "print(W1.shape)\n",
    "print(W2.shape)\n",
    "print(CostFunction(Model, TrainingFeatures, Y, 0))"
   ]
  },
  {
   "cell_type": "markdown",
   "metadata": {},
   "source": [
    "## Predict function"
   ]
  },
  {
   "cell_type": "code",
   "execution_count": null,
   "metadata": {
    "collapsed": true
   },
   "outputs": [],
   "source": [
    "def Predict(model, x, regularizationModifier = 0.01):\n",
    "    m = len(x)  \n",
    "    W1, W2 = model['W1'], model['W2']\n",
    "    a1 = np.column_stack((np.ones(m), x))\n",
    "    z2 = np.dot(a1, W1.T)\n",
    "    a2 = Sigmoid(z2)\n",
    "    a2 = np.column_stack((np.ones(len(a2)), a2))\n",
    "    z3 = np.dot(a2, W2.T)\n",
    "    hypothesis = Sigmoid(z3)\n",
    "    print(hypothesis.shape)\n",
    "    return np.argmax(hypothesis, axis=1)\n"
   ]
  },
  {
   "cell_type": "markdown",
   "metadata": {},
   "source": []
  },
  {
   "cell_type": "code",
   "execution_count": null,
   "metadata": {
    "collapsed": true
   },
   "outputs": [],
   "source": [
    "def randInitializeWeight(L_In, L_Out,N=0) :\n",
    "    np.random.seed(N)\n",
    "    epsilon = 0.12   \n",
    "    return (np.random.randn(L_Out, L_In + 1) * 2 * epsilon) - epsilon"
   ]
  },
  {
   "cell_type": "code",
   "execution_count": null,
   "metadata": {
    "collapsed": true
   },
   "outputs": [],
   "source": [
    "def Build_Model(x, y, noOfInputs, noOfOutputs, hiddenLayerSize, num_passes = 20000, print_losses = False, regularizationModifier = 0.01, alpha =  0.1):\n",
    "    m = len(x)\n",
    "    model= {}\n",
    "    \n",
    "    W1 = randInitializeWeight(noOfInputs, hiddenLayerSize)\n",
    "    W2 = randInitializeWeight(hiddenLayerSize, noOfOutputs)\n",
    "    \n",
    "    for i in range(0, num_passes):\n",
    "        a1 = np.column_stack((np.ones(m), x))\n",
    "        z2 = np.dot(a1, W1.T)\n",
    "        a2 = Sigmoid(z2)\n",
    "        a2 = np.column_stack((np.ones(len(a2)), a2))\n",
    "        z3 = np.dot(a2, W2.T)\n",
    "        hypothesis = Sigmoid(z3)\n",
    "        \n",
    "        d3 = hypothesis - y\n",
    "        d2 = np.dot(d3,W2)*SigmoidGradient(np.column_stack((np.ones(len(z2)), z2)))\n",
    "        D1 = np.dot(d2[:,1:].T, a1)\n",
    "        D2 = np.dot(d3.T, a2)\n",
    "        r1 = (regularizationModifier/m)*(np.column_stack((np.zeros((len(W1))), W1[:, 1:])))\n",
    "        r2 = (regularizationModifier/m)*(np.column_stack((np.zeros((len(W2))), W2[:, 1:])))\n",
    "        \n",
    "        W1_grad = D1/m + r1\n",
    "        W2_grad = D2/m + r2\n",
    "        \n",
    "        W1 += -alpha*W1_grad\n",
    "        W2 += -alpha*W2_grad\n",
    "        \n",
    "        model = {'W1': W1, 'W2': W2}\n",
    "        \n",
    "        if print_losses and i % 1000 == 0:\n",
    "            print(\"Loss after iteration %i: %f\" %(i, CostFunction(model, x, y)))\n",
    "            \n",
    "    return model\n",
    "    "
   ]
  },
  {
   "cell_type": "markdown",
   "metadata": {},
   "source": [
    "Test the training"
   ]
  },
  {
   "cell_type": "code",
   "execution_count": null,
   "metadata": {
    "collapsed": true
   },
   "outputs": [],
   "source": []
  },
  {
   "cell_type": "code",
   "execution_count": null,
   "metadata": {
    "collapsed": true
   },
   "outputs": [],
   "source": []
  },
  {
   "cell_type": "code",
   "execution_count": null,
   "metadata": {
    "collapsed": true
   },
   "outputs": [],
   "source": []
  }
 ],
 "metadata": {
  "kernelspec": {
   "display_name": "Python 3",
   "language": "python",
   "name": "python3"
  },
  "language_info": {
   "codemirror_mode": {
    "name": "ipython",
    "version": 3
   },
   "file_extension": ".py",
   "mimetype": "text/x-python",
   "name": "python",
   "nbconvert_exporter": "python",
   "pygments_lexer": "ipython3",
   "version": "3.6.2"
  }
 },
 "nbformat": 4,
 "nbformat_minor": 2
}
